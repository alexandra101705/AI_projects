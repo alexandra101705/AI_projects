{
 "cells": [
  {
   "metadata": {},
   "cell_type": "markdown",
   "source": [
    "Ce fel de floare preferi? Se consideră problema clasificării florilor de iris în diferite specii precum: setosa, versicolor și virginica. Pentru fiecare floare se cunosc caracteristici precum: lungimea și lățimea sepalei, lungimea și lățimea petalei. Mai multe detalii despre acest set se pot găsi aici. Folosindu-se aceste informații, să se decidă din ce specie aparține o anumită floare.\n",
    "\n",
    "Specificaţi, proiectaţi, implementaţi si testati cate un algoritm de clasificare pentru problema 2 si problema 3 bazat pe regresie logistica. Antrenati cate un clasificator pentru fiecare problema, pe care apoi sa ii utilizati pentru a stabili:\n",
    "\n",
    "- specia unei flori de iris care are sepala lunga de 5.35 cm si lata de 3.85 cm, iar petala lunga de 1.25 cm si lata de 0.4cm"
   ],
   "id": "e41a9690bab2f8ea"
  },
  {
   "metadata": {
    "ExecuteTime": {
     "end_time": "2025-04-17T00:14:37.294511Z",
     "start_time": "2025-04-17T00:14:37.282749Z"
    }
   },
   "cell_type": "code",
   "source": [
    "import numpy as np\n",
    "import pandas as pd\n",
    "from sklearn.model_selection import train_test_split\n",
    "from sklearn.preprocessing import StandardScaler\n",
    "from sklearn.linear_model import LogisticRegression\n",
    "from sklearn.preprocessing import StandardScaler\n",
    "\n",
    "column_names = [\"sepal_length\", \"sepal_width\", \"petal_length\", \"petal_width\", \"class\"]\n",
    "\n",
    "data = pd.read_csv(\"data/iris.data\", header=None, names=column_names)\n",
    "\n",
    "data.to_csv(\"iris.csv\", index=False)"
   ],
   "id": "7a88d00bd49fda80",
   "outputs": [],
   "execution_count": 29
  },
  {
   "metadata": {
    "ExecuteTime": {
     "end_time": "2025-04-17T00:14:39.487027Z",
     "start_time": "2025-04-17T00:14:39.480100Z"
    }
   },
   "cell_type": "code",
   "source": [
    "class MyLogisticRegression:\n",
    "    def __init__(self, learning_rate=0.01, n_iters=1000):\n",
    "        self.lr = learning_rate\n",
    "        self.n_iters = n_iters\n",
    "        self.weights = None\n",
    "        self.bias = None\n",
    "\n",
    "    def fit(self, X, y):\n",
    "        n_samples, n_features = X.shape\n",
    "        self.weights = np.zeros(n_features)\n",
    "        self.bias = 0\n",
    "\n",
    "        for _ in range(self.n_iters):\n",
    "            linear = np.dot(X, self.weights) + self.bias\n",
    "            predictions = self._sigmoid(linear)\n",
    "\n",
    "            dw = (1 / n_samples) * np.dot(X.T, (predictions - y))\n",
    "            db = (1 / n_samples) * np.sum(predictions - y)\n",
    "\n",
    "            self.weights -= self.lr * dw\n",
    "            self.bias -= self.lr * db\n",
    "\n",
    "    def predict_proba(self, X):\n",
    "        linear = np.dot(X, self.weights) + self.bias\n",
    "        return self._sigmoid(linear)\n",
    "\n",
    "    def _sigmoid(self, x):\n",
    "        return 1 / (1 + np.exp(-x))"
   ],
   "id": "55e7acd9a3d36eb7",
   "outputs": [],
   "execution_count": 30
  },
  {
   "metadata": {
    "ExecuteTime": {
     "end_time": "2025-04-17T00:14:42.260758Z",
     "start_time": "2025-04-17T00:14:42.243057Z"
    }
   },
   "cell_type": "code",
   "source": [
    "data = pd.read_csv(\"data/iris.csv\")\n",
    "X = data[[\"sepal_length\", \"sepal_width\", \"petal_length\", \"petal_width\"]].values\n",
    "y = data[\"class\"].values\n",
    "\n",
    "classes = {\"Iris-setosa\": 0, \"Iris-versicolor\": 1, \"Iris-virginica\": 2}\n",
    "y_numeric = np.array([classes[cls] for cls in y])\n",
    "\n",
    "X_train, X_test, y_train, y_test = train_test_split(X, y_numeric, test_size=0.2, random_state=42)\n",
    "\n",
    "scaler = StandardScaler()\n",
    "X_train_scaled = scaler.fit_transform(X_train)\n",
    "X_test_scaled = scaler.transform(X_test)\n"
   ],
   "id": "66737622413d0ae5",
   "outputs": [],
   "execution_count": 31
  },
  {
   "metadata": {
    "ExecuteTime": {
     "end_time": "2025-04-17T00:22:47.300341Z",
     "start_time": "2025-04-17T00:22:47.247684Z"
    }
   },
   "cell_type": "code",
   "source": [
    "model_setosa = MyLogisticRegression(learning_rate=0.1, n_iters=1000)\n",
    "model_versicolor = MyLogisticRegression(learning_rate=0.1, n_iters=1000)\n",
    "model_virginica = MyLogisticRegression(learning_rate=0.1, n_iters=1000)\n",
    "\n",
    "\n",
    "model_setosa.fit(X_train_scaled, (y_train == 0).astype(int))  # Setosa vs rest\n",
    "model_versicolor.fit(X_train_scaled, (y_train == 1).astype(int))  # Versicolor vs rest\n",
    "model_virginica.fit(X_train_scaled, (y_train == 2).astype(int))  # Virginica vs rest\n",
    "\n",
    "def predict_multiclass(X, model0, model1, model2):\n",
    "    proba0 = model0.predict_proba(X)\n",
    "    proba1 = model1.predict_proba(X)\n",
    "    proba2 = model2.predict_proba(X)\n",
    "    return np.argmax(np.vstack([proba0, proba1, proba2]), axis=0)\n",
    "\n",
    "y_pred = predict_multiclass(X_test_scaled, model_setosa, model_versicolor, model_virginica)\n",
    "\n",
    "\n",
    "accuracy = np.mean(y_pred == y_test)\n",
    "print(f\"Acuratete MyLogisticRegression: {accuracy:.2f}\")\n",
    "\n",
    "# Sepala: 5.35x3.85, Petala: 1.25x0.4\n",
    "new_flower = np.array([[5.35, 3.85, 1.25, 0.4]])\n",
    "new_flower_scaled = scaler.transform(new_flower)\n",
    "\n",
    "cls_idx = predict_multiclass(new_flower_scaled, model_setosa, model_versicolor, model_virginica)[0]\n",
    "species = [\"Iris-setosa\", \"Iris-versicolor\", \"Iris-virginica\"][cls_idx]\n",
    "print(f\"Specia prezisă: {species}\")"
   ],
   "id": "18978ee800f280e3",
   "outputs": [
    {
     "name": "stdout",
     "output_type": "stream",
     "text": [
      "Acuratețe MyLogisticRegression: 0.97\n",
      "Specia prezisă: Iris-setosa\n"
     ]
    }
   ],
   "execution_count": 52
  },
  {
   "metadata": {
    "ExecuteTime": {
     "end_time": "2025-04-17T00:21:29.139375Z",
     "start_time": "2025-04-17T00:21:29.121646Z"
    }
   },
   "cell_type": "code",
   "source": [
    "sk_model = LogisticRegression(max_iter=1000)\n",
    "sk_model.fit(X_train_scaled, y_train)\n",
    "\n",
    "new_flower = np.array([[5.35, 3.85, 1.25, 0.4]])\n",
    "new_flower_scaled = scaler.transform(new_flower)\n",
    "\n",
    "cls_idx_sk = sk_model.predict(new_flower_scaled)[0]\n",
    "species = [\"Iris-setosa\", \"Iris-versicolor\", \"Iris-virginica\"][cls_idx_sk]\n",
    "print(f\"Specia prezisă de sklearn: {species}\")\n",
    "\n",
    "# Evaluare\n",
    "train_acc = sk_model.score(X_train_scaled, y_train)\n",
    "test_acc = sk_model.score(X_test_scaled, y_test)\n",
    "print(f\"Acuratete train: {train_acc:.2f}\")\n",
    "print(f\"Acuratete test: {test_acc:.2f}\")\n",
    "\n",
    "# Probabilități cu sklearn\n",
    "probabilities_sk = sk_model.predict_proba(new_flower_scaled)[0]\n",
    "\n",
    "print(\"\\nImplementarea sklearn (Softmax):\")\n",
    "print(f\"Specie prezisă: {species}\")\n",
    "print(\"Probabilități pentru fiecare clasă:\")\n",
    "print(f\"Setosa: {probabilities_sk[0]:.4f}\")\n",
    "print(f\"Versicolor: {probabilities_sk[1]:.4f}\")\n",
    "print(f\"Virginica: {probabilities_sk[2]:.4f}\")"
   ],
   "id": "cb3f00d460cd96d1",
   "outputs": [
    {
     "name": "stdout",
     "output_type": "stream",
     "text": [
      "Specia prezisă de sklearn: Iris-setosa\n",
      "Acuratețe train: 0.97\n",
      "Acuratețe test: 1.00\n",
      "\n",
      "Implementarea sklearn (Softmax):\n",
      "Specie prezisă: Iris-setosa\n",
      "Probabilități pentru fiecare clasă:\n",
      "Setosa: 0.9878\n",
      "Versicolor: 0.0122\n",
      "Virginica: 0.0000\n"
     ]
    }
   ],
   "execution_count": 51
  },
  {
   "metadata": {
    "ExecuteTime": {
     "end_time": "2025-04-17T00:14:55.682053Z",
     "start_time": "2025-04-17T00:14:55.615635Z"
    }
   },
   "cell_type": "code",
   "source": [
    "import matplotlib.pyplot as plt\n",
    "plt.scatter(X_train[:, 2], X_train[:, 3], c=y_train)\n",
    "plt.xlabel(\"Petal Length\")\n",
    "plt.ylabel(\"Petal Width\")\n",
    "plt.show()"
   ],
   "id": "308afaf63050b59c",
   "outputs": [
    {
     "data": {
      "text/plain": [
       "<Figure size 640x480 with 1 Axes>"
      ],
      "image/png": "[encoded data removed]"
     },
     "metadata": {},
     "output_type": "display_data"
    }
   ],
   "execution_count": 37
  }
 ],
 "metadata": {
  "kernelspec": {
   "display_name": "Python 3",
   "language": "python",
   "name": "python3"
  },
  "language_info": {
   "codemirror_mode": {
    "name": "ipython",
    "version": 2
   },
   "file_extension": ".py",
   "mimetype": "text/x-python",
   "name": "python",
   "nbconvert_exporter": "python",
   "pygments_lexer": "ipython2",
   "version": "2.7.6"
  }
 },
 "nbformat": 4,
 "nbformat_minor": 5
}
