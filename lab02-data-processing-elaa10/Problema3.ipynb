{
 "cells": [
  {
   "metadata": {},
   "cell_type": "markdown",
   "source": [
    "3. Se da un fisier care contine un text (format din mai multe propozitii) in limba romana - a se vedea fisierul ”data/texts.txt”. Se cere sa se determine si sa se vizualizeze:\n",
    "\n",
    "- numarul de propozitii din text;"
   ],
   "id": "5e5e271172709aa4"
  },
  {
   "metadata": {
    "jupyter": {
     "is_executing": true
    }
   },
   "cell_type": "code",
   "source": [
    "import re\n",
    "import unidecode\n",
    "import nltk\n",
    "from nltk.corpus import wordnet\n",
    "\n",
    "nltk.download('punkt')\n",
    "nltk.download('wordnet')\n",
    "\n",
    "with open(\"texts.txt\", \"r\", encoding=\"utf-8\") as file:\n",
    "    text = file.read()\n",
    "\n",
    "nr_sentences = len(re.split(r'[.!?]+', text)) - 1\n",
    "print(\"Numarul de propozitii din text: \", nr_sentences)"
   ],
   "id": "1ea3986b02895369",
   "outputs": [],
   "execution_count": null
  },
  {
   "metadata": {},
   "cell_type": "markdown",
   "source": "- numarul de cuvinte din text",
   "id": "adc17cd91e87a661"
  },
  {
   "metadata": {
    "ExecuteTime": {
     "end_time": "2025-03-13T12:52:22.234575Z",
     "start_time": "2025-03-13T12:52:22.219635Z"
    }
   },
   "cell_type": "code",
   "source": [
    "nr_words = len(re.findall(r'\\b\\w+\\b', text))\n",
    "print(\"Numarul de cuvinte din text: \", nr_words)"
   ],
   "id": "93d07767e79f7fc9",
   "outputs": [
    {
     "name": "stdout",
     "output_type": "stream",
     "text": [
      "Numarul de cuvinte din text:  160\n"
     ]
    }
   ],
   "execution_count": 5
  },
  {
   "metadata": {},
   "cell_type": "markdown",
   "source": "- numarul de cuvinte diferite din text",
   "id": "292991376896345c"
  },
  {
   "metadata": {
    "ExecuteTime": {
     "end_time": "2025-03-13T12:57:27.576644Z",
     "start_time": "2025-03-13T12:57:27.569482Z"
    }
   },
   "cell_type": "code",
   "source": [
    "lower_words = re.findall(r'\\b\\w+\\b', text.lower())\n",
    "unique_words = set(lower_words)\n",
    "nr_unique_words = len(unique_words)\n",
    "print(\"Numarul de cuvinte unice: \", nr_unique_words)"
   ],
   "id": "9dd13d31d5bd29ba",
   "outputs": [
    {
     "name": "stdout",
     "output_type": "stream",
     "text": [
      "Numarul de cuvinte unice:  92\n"
     ]
    }
   ],
   "execution_count": 8
  },
  {
   "metadata": {},
   "cell_type": "markdown",
   "source": "- cel mai scurt si cel mai lung cuvant (cuvinte)",
   "id": "85dc290ca775c32a"
  },
  {
   "metadata": {
    "ExecuteTime": {
     "end_time": "2025-03-13T13:14:08.252778Z",
     "start_time": "2025-03-13T13:14:08.246661Z"
    }
   },
   "cell_type": "code",
   "source": [
    "shortest_word = min(unique_words, key=len)\n",
    "min_len = len(shortest_word)\n",
    "longest_word = max(unique_words, key=len)\n",
    "max_len = len(longest_word)\n",
    "\n",
    "shortest_words = [word for word in unique_words if len(word) == min_len]\n",
    "longest_words = [word for word in unique_words if len(word) == max_len]\n",
    "print(\"Cele mai scurte cuvinte: \", \", \".join(shortest_words))\n",
    "print(\"Cele mai lungi cuvinte: \", \", \".join(longest_words))\n",
    "\n",
    "# words_without_numbers = [word for word in unique_words if word.isalpha()]\n",
    "#\n",
    "# shortest_word = min(words_without_numbers, key=len)\n",
    "# longest_word = max(words_without_numbers, key=len)\n",
    "# print(\"Cel mai scurt cuvant: \", shortest_word)\n",
    "# print(\"Cel mai lung cuvant: \", longest_word)\n"
   ],
   "id": "364639117ef57f3c",
   "outputs": [
    {
     "name": "stdout",
     "output_type": "stream",
     "text": [
      "Cele mai scurte cuvinte:  3, e, o\n",
      "Cele mai lungi cuvinte:  confiiiiiiiiiiiiiiiiiiiiiiiiiiiirm\n"
     ]
    }
   ],
   "execution_count": 20
  },
  {
   "metadata": {},
   "cell_type": "markdown",
   "source": "- textul fara diacritice",
   "id": "e39accf2f5c525d2"
  },
  {
   "metadata": {
    "ExecuteTime": {
     "end_time": "2025-03-13T13:14:10.324452Z",
     "start_time": "2025-03-13T13:14:10.320624Z"
    }
   },
   "cell_type": "code",
   "source": [
    "removed_diacritics_text = unidecode.unidecode(text)\n",
    "print(\"\\nText fara diacritice:\\n\")\n",
    "print(removed_diacritics_text)"
   ],
   "id": "3b9edf5db3ee1bfe",
   "outputs": [
    {
     "name": "stdout",
     "output_type": "stream",
     "text": [
      "\n",
      "Text fara diacritice:\n",
      "\n",
      "Mesaj de informare: \n",
      "Cursul si laboratoarele de Inteligenta Artificiala vor fi o \n",
      "provocare pentru toti. Suntem convinsi ca veti realiza proiecte \n",
      "foarte interesante. Va incurajam sa adresati intrebari atunci \n",
      "cand ceva nu e clar, atat in mod live, cat si folosind platforma \n",
      "Teams, canalul \"general\". \n",
      "Daca ati citit pana aici, va rugam sa lasati un mesaj pe canalul \n",
      "general cu textul \"Confiiiiiiiiiiiiiiiiiiiiiiiiiiiirm ca am citit \n",
      "textul pentru problema 3 din lab2\". \n",
      "--\n",
      "Mesaj de informare generat de ChatGPT:\n",
      "Stimati cursanti,\n",
      "Suntem incantati sa va avem in echipa noastra pentru Cursul si \n",
      "laboratoarele de Inteligenta Artificiala. Aceasta experienta va \n",
      "fi o adevarata provocare, dar suntem convinsi ca veti realiza \n",
      "proiecte extrem de interesante.\n",
      "Va incurajam sa fiti activi si sa adresati intrebari atunci cand \n",
      "ceva nu este clar. Fie ca este vorba de o discutie in timp real \n",
      "sau prin intermediul platformei Teams, canalul \"general\", suntem \n",
      "aici sa va sprijinim.\n",
      "Succes si sa inceapa aventura AI!\n",
      "Cu consideratie, Echipa de Inteligenta Artificiala\n"
     ]
    }
   ],
   "execution_count": 21
  },
  {
   "metadata": {},
   "cell_type": "markdown",
   "source": "- sinonimele celui mai lung cuvant din text",
   "id": "202395596a551b26"
  },
  {
   "metadata": {
    "ExecuteTime": {
     "end_time": "2025-03-13T13:14:12.103558Z",
     "start_time": "2025-03-13T13:14:12.088940Z"
    }
   },
   "cell_type": "code",
   "source": [
    "synonyms = set()\n",
    "for synonym in wordnet.synsets(longest_word):\n",
    "    for lemma in synonym.lemmas():\n",
    "        synonyms.add(lemma.name())\n",
    "if len(synonyms) > 0:\n",
    "    print(\"Sinonime pentru \", longest_word, \" : \")\n",
    "    for synonym in synonyms:\n",
    "        print(synonym, \"\\n\")\n",
    "else:\n",
    "    print(\"Nu exista sinonime pentru \", longest_word, \" : \")\n",
    "\n",
    "\n",
    "longest_word_normilize = re.sub(r'(.)\\1+', r'\\1', longest_word)\n",
    "synonyms = set()\n",
    "for synonym in wordnet.synsets(longest_word_normilize):\n",
    "    for lemma in synonym.lemmas():\n",
    "        synonyms.add(lemma.name())\n",
    "if len(synonyms) > 0:\n",
    "    print(\"Sinonime pentru \", longest_word_normilize, \" : \")\n",
    "    for synonym in synonyms:\n",
    "        print(synonym)\n",
    "else:\n",
    "    print(\"Nu exista sinonime pentru \", longest_word_normilize)"
   ],
   "id": "1f5e1eef6b059a11",
   "outputs": [
    {
     "name": "stdout",
     "output_type": "stream",
     "text": [
      "Nu exista sinonime pentru  confiiiiiiiiiiiiiiiiiiiiiiiiiiiirm  : \n",
      "Sinonime pentru  confirm  : \n",
      "substantiate\n",
      "sustain\n",
      "affirm\n",
      "support\n",
      "corroborate\n",
      "confirm\n",
      "reassert\n"
     ]
    }
   ],
   "execution_count": 22
  }
 ],
 "metadata": {
  "kernelspec": {
   "display_name": "Python 3",
   "language": "python",
   "name": "python3"
  },
  "language_info": {
   "codemirror_mode": {
    "name": "ipython",
    "version": 2
   },
   "file_extension": ".py",
   "mimetype": "text/x-python",
   "name": "python",
   "nbconvert_exporter": "python",
   "pygments_lexer": "ipython2",
   "version": "2.7.6"
  }
 },
 "nbformat": 4,
 "nbformat_minor": 5
}
