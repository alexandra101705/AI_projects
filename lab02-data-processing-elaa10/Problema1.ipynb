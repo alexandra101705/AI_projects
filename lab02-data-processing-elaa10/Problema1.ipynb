{
 "cells": [
  {
   "metadata": {},
   "cell_type": "markdown",
   "source": [
    "1. S-a efectuat un studiu despre starea domeniului Data Science, iar datele colectate sunt salvate in fisierul \"data/surveyDataScience.csv\".\n",
    "\n",
    "1.a. Sa se stabileasca:\n",
    "\n",
    "- numarul de respondenti (de la care s-au colectate informatiile)"
   ],
   "id": "cc091e51c082417f"
  },
  {
   "metadata": {
    "ExecuteTime": {
     "end_time": "2025-03-13T12:31:54.965896Z",
     "start_time": "2025-03-13T12:31:50.110763Z"
    }
   },
   "cell_type": "code",
   "source": [
    "import pandas as pd\n",
    "\n",
    "df = pd.read_csv(\"surveyDataSience.csv\")\n",
    "nr_respondenti = df.shape[0]\n",
    "print(\"Numarul de respondenti (de la care s-au colectate informatiile)\", nr_respondenti)"
   ],
   "id": "a356d359fa1903d5",
   "outputs": [
    {
     "name": "stdout",
     "output_type": "stream",
     "text": [
      "Numarul de respondenti (de la care s-au colectate informatiile) 25974\n"
     ]
    },
    {
     "name": "stderr",
     "output_type": "stream",
     "text": [
      "C:\\Users\\Alexandra\\AppData\\Local\\Temp\\ipykernel_18916\\1294372105.py:3: DtypeWarning: Columns (0,18,32,49,56,69,88,100,107,113,139,184,195,201,202,253,266,278,283,285,286,287,288,289,290,291,292,301,322,339,347,355,367) have mixed types. Specify dtype option on import or set low_memory=False.\n",
      "  df = pd.read_csv(\"surveyDataSience.csv\")\n"
     ]
    }
   ],
   "execution_count": 1
  },
  {
   "metadata": {},
   "cell_type": "markdown",
   "source": "- numar si tipul informatiilor (atributelor, proprietatilor) detinute pentru un respondent",
   "id": "e7368cfc5db6256b"
  },
  {
   "metadata": {
    "ExecuteTime": {
     "end_time": "2025-03-13T12:32:51.762843Z",
     "start_time": "2025-03-13T12:32:51.751352Z"
    }
   },
   "cell_type": "code",
   "source": [
    "num_attributes = df.shape[1]\n",
    "attribute_types = df.dtypes\n",
    "print(\"Numar informatiilor (atributelor, proprietatilor) detinute pentru un respondent: \", num_attributes)\n",
    "print(\"Tipul informatiilor (atributelor, proprietatilor) detinute pentru un respondent: \")\n",
    "print(attribute_types)"
   ],
   "id": "c1d05c6de806f7e2",
   "outputs": [
    {
     "name": "stdout",
     "output_type": "stream",
     "text": [
      "Numar informatiilor (atributelor, proprietatilor) detinute pentru un respondent:  369\n",
      "Tipul informatiilor (atributelor, proprietatilor) detinute pentru un respondent: \n",
      "Time from Start to Finish (seconds)    object\n",
      "Q1                                     object\n",
      "Q2                                     object\n",
      "Q3                                     object\n",
      "Q4                                     object\n",
      "                                        ...  \n",
      "Q38_B_Part_8                           object\n",
      "Q38_B_Part_9                           object\n",
      "Q38_B_Part_10                          object\n",
      "Q38_B_Part_11                          object\n",
      "Q38_B_OTHER                            object\n",
      "Length: 369, dtype: object\n"
     ]
    }
   ],
   "execution_count": 2
  },
  {
   "metadata": {},
   "cell_type": "markdown",
   "source": "- numarul de respondenti pentru care se detin date complete",
   "id": "fa84c65d8ccc36cc"
  },
  {
   "metadata": {
    "ExecuteTime": {
     "end_time": "2025-03-13T12:33:22.138180Z",
     "start_time": "2025-03-13T12:33:21.985709Z"
    }
   },
   "cell_type": "code",
   "source": [
    "num_complete_respondents = df.dropna().shape[0]\n",
    "print(\"Numarul de respondenti pentru care se detin date complete: \", num_complete_respondents)"
   ],
   "id": "a24a35d916a8758a",
   "outputs": [
    {
     "name": "stdout",
     "output_type": "stream",
     "text": [
      "Numarul de respondenti pentru care se detin date complete:  1\n"
     ]
    }
   ],
   "execution_count": 3
  },
  {
   "metadata": {},
   "cell_type": "markdown",
   "source": [
    "- durata medie a anilor de studii superioare pentru acesti respondenti (cea efectiva sau cea estimata),\n",
    "- durata medie a anilor de studii pentru respondentii din Romania si\n",
    "- durata medie a anilor de studii pentru respondentii din Romania care sunt femei.\n",
    "- Comparati rezultatele obtinute pentru cele trei grupuri de respondenti. Se presupune ca studiile de licenta dureaza 3 ani, cele de master 2 ani si cele de doctorat 3 ani."
   ],
   "id": "bd82d9384b7f54e2"
  },
  {
   "metadata": {
    "ExecuteTime": {
     "end_time": "2025-03-13T12:34:41.865462Z",
     "start_time": "2025-03-13T12:34:41.848192Z"
    }
   },
   "cell_type": "code",
   "source": [
    "def calculate_study_years(education_level):\n",
    "    mapping = {\n",
    "        \"Bachelor’s degree\": 3,\n",
    "        \"Master’s degree\": 5,\n",
    "        \"Doctoral degree\": 8,\n",
    "    }\n",
    "    return mapping.get(education_level, 0)\n",
    "\n",
    "df[\"Study Years\"] = df[\"Q4\"].apply(calculate_study_years)\n",
    "avg_study_years = df[\"Study Years\"].mean()\n",
    "print(\"Durata medie a anilor de studii superioare pentru acesti respondenti:  \", avg_study_years)\n",
    "\n",
    "romania_df = df[df[\"Q3\"] == \"Romania\"]\n",
    "avg_study_years_romania = romania_df[\"Study Years\"].mean()\n",
    "print(\"Durata medie a anilor de studii pentru respondentii din Romania: \", avg_study_years_romania)\n",
    "\n",
    "romania_women_df = romania_df[romania_df[\"Q2\"] == \"Woman\"]\n",
    "avg_study_years_romania_women = romania_women_df[\"Study Years\"].mean()\n",
    "print(\"durata medie a anilor de studii pentru respondentii din Romania care sunt femei\", avg_study_years_romania_women)"
   ],
   "id": "c4ddde658ae5a312",
   "outputs": [
    {
     "name": "stdout",
     "output_type": "stream",
     "text": [
      "Durata medie a anilor de studii superioare pentru acesti respondenti:   3.9555324555324556\n",
      "Durata medie a anilor de studii pentru respondentii din Romania:  4.163934426229508\n",
      "durata medie a anilor de studii pentru respondentii din Romania care sunt femei 4.75\n"
     ]
    }
   ],
   "execution_count": 4
  },
  {
   "metadata": {},
   "cell_type": "markdown",
   "source": "- numarul de respondenti femei din Romania pentru care se detin date complete",
   "id": "6a774c61761df82"
  },
  {
   "metadata": {},
   "cell_type": "code",
   "outputs": [],
   "execution_count": null,
   "source": [
    "num_complete_romania_women = romania_women_df.dropna().shape[0]\n",
    "print(\"numarul de respondenti femei din Romania pentru care se detin date complete: \", num_complete_romania_women)"
   ],
   "id": "3d7a7078a7b42c11"
  },
  {
   "metadata": {},
   "cell_type": "markdown",
   "source": "- numarul de femei din Romania care programeaza in Python, precum si intervalul de varsta cu cele mai multe femei care programeaza in Python? Dar in C++? Comparati rezultatele obtinute pentru cele doua limbaje de programare.",
   "id": "4dfaa72342fb4339"
  },
  {
   "metadata": {},
   "cell_type": "code",
   "outputs": [],
   "execution_count": null,
   "source": "",
   "id": "962e8aaab74872fb"
  },
  {
   "metadata": {},
   "cell_type": "markdown",
   "source": "- domeniul de valori posibile si valorile extreme pentru fiecare atribut/proprietate (feature). In cazul proprietatilor nenumerice, cate valori posibile are fiecare astfel de proprietate",
   "id": "5fdec5464f637807"
  },
  {
   "metadata": {},
   "cell_type": "code",
   "outputs": [],
   "execution_count": null,
   "source": "",
   "id": "c5118c04c9ba3b3b"
  },
  {
   "metadata": {},
   "cell_type": "markdown",
   "source": "- transformati informatiile despre vechimea in programare in numar de ani (folositi in locul intervalului, mijlocul acestuia) si apoi calculati momentele de ordin 1 si 2 pentru aceasta variabila (minim, maxim, media, deviatia standard, mediana). Ce se poate spune despre aceasta variabila?",
   "id": "a7955a3f621ade67"
  },
  {
   "metadata": {},
   "cell_type": "code",
   "outputs": [],
   "execution_count": null,
   "source": "",
   "id": "6498837a992d4f4"
  },
  {
   "metadata": {},
   "cell_type": "markdown",
   "source": [
    "1.b. Sa se vizualizeze:\n",
    "\n",
    "- distributia respondentilor care programeaza in Python pe categorii de varsta"
   ],
   "id": "daa1198223bca32c"
  },
  {
   "metadata": {},
   "cell_type": "code",
   "outputs": [],
   "execution_count": null,
   "source": "",
   "id": "697e9a694f7d0f56"
  },
  {
   "metadata": {},
   "cell_type": "markdown",
   "source": "- distributia respondentilor din Romania care programeaza in Python pe categorii de varsta",
   "id": "3fba86a85a937451"
  },
  {
   "metadata": {},
   "cell_type": "code",
   "outputs": [],
   "execution_count": null,
   "source": "",
   "id": "b7259b4c7f4b11d7"
  },
  {
   "metadata": {},
   "cell_type": "markdown",
   "source": "- distributia respondentilor femei din Romania care programeaza in Python pe categorii de varsta",
   "id": "ad5d25f5d8d79709"
  },
  {
   "metadata": {},
   "cell_type": "code",
   "outputs": [],
   "execution_count": null,
   "source": "",
   "id": "bf209f8b72e9daf"
  },
  {
   "metadata": {},
   "cell_type": "markdown",
   "source": "- respondentii care pot fi considerati \"outlieri\" din punct de vedere al vechimii in programare (puteti folositi un boxplot pentru a identifica aceste valori)",
   "id": "b05dc8e27108ac9b"
  },
  {
   "metadata": {},
   "cell_type": "code",
   "outputs": [],
   "execution_count": null,
   "source": "",
   "id": "2b30db4722a1eb35"
  }
 ],
 "metadata": {
  "kernelspec": {
   "display_name": "Python 3",
   "language": "python",
   "name": "python3"
  },
  "language_info": {
   "codemirror_mode": {
    "name": "ipython",
    "version": 2
   },
   "file_extension": ".py",
   "mimetype": "text/x-python",
   "name": "python",
   "nbconvert_exporter": "python",
   "pygments_lexer": "ipython2",
   "version": "2.7.6"
  }
 },
 "nbformat": 4,
 "nbformat_minor": 5
}
